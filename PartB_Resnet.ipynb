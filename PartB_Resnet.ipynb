{
 "cells": [
  {
   "cell_type": "code",
   "execution_count": null,
   "metadata": {
    "execution": {
     "iopub.execute_input": "2023-04-09T12:55:25.622087Z",
     "iopub.status.busy": "2023-04-09T12:55:25.621681Z",
     "iopub.status.idle": "2023-04-09T12:55:25.912089Z",
     "shell.execute_reply": "2023-04-09T12:55:25.911085Z",
     "shell.execute_reply.started": "2023-04-09T12:55:25.622044Z"
    },
    "id": "nkR6IZBPQzp3",
    "outputId": "c6f86459-7eaa-4b7b-a33c-f0e4d1f78234"
   },
   "outputs": [],
   "source": [
    "import wandb\n",
    "wandb.login()"
   ]
  },
  {
   "cell_type": "code",
   "execution_count": null,
   "metadata": {
    "execution": {
     "iopub.execute_input": "2023-04-09T12:55:29.038507Z",
     "iopub.status.busy": "2023-04-09T12:55:29.038036Z",
     "iopub.status.idle": "2023-04-09T12:55:35.304180Z",
     "shell.execute_reply": "2023-04-09T12:55:35.303067Z",
     "shell.execute_reply.started": "2023-04-09T12:55:29.038465Z"
    },
    "id": "c2a02474"
   },
   "outputs": [],
   "source": [
    "import torch\n",
    "import torchvision\n",
    "import torchvision.transforms as transforms\n",
    "import matplotlib.pyplot as plt\n",
    "import numpy as np\n",
    "import torch.nn as nn\n",
    "import torch.nn.functional as F\n",
    "import torch.optim as optim\n",
    "from torch.utils.data import DataLoader\n",
    "import warnings\n",
    "warnings.filterwarnings('ignore')\n",
    "from collections import Counter\n",
    "import shutil\n",
    "import os\n",
    "import random\n",
    "import pytorch_lightning as pl\n",
    "from types import SimpleNamespace\n",
    "from torchvision.models import resnet50\n",
    "from pytorch_lightning.loggers import WandbLogger\n",
    "%matplotlib inline"
   ]
  },
  {
   "cell_type": "code",
   "execution_count": null,
   "metadata": {
    "execution": {
     "iopub.execute_input": "2023-04-09T12:55:40.196026Z",
     "iopub.status.busy": "2023-04-09T12:55:40.194934Z",
     "iopub.status.idle": "2023-04-09T12:57:34.896756Z",
     "shell.execute_reply": "2023-04-09T12:57:34.895707Z",
     "shell.execute_reply.started": "2023-04-09T12:55:40.195984Z"
    },
    "id": "aa1d3b84"
   },
   "outputs": [],
   "source": [
    "## Splitting train to train(80%) and valid(20%)\n",
    "\n",
    "prefix='/kaggle/input/inaturalist12k/Data/inaturalist_12K/'\n",
    "\n",
    "data_prefix='/kaggle/working/'\n",
    "\n",
    "classes=['Amphibia', 'Animalia', 'Arachnida', 'Aves', 'Fungi', 'Insecta', 'Mammalia', 'Mollusca', 'Plantae', 'Reptilia']\n",
    "\n",
    "flag=os.path.exists(data_prefix+'splittedVal')\n",
    "\n",
    "## Splitting train to train(80%) and valid(20%)\n",
    "valid_split=0.2\n",
    "if not flag:\n",
    "    for each in ['train','val']:\n",
    "        shutil.copytree(prefix+each,data_prefix+each)\n",
    "    os.mkdir(data_prefix+\"splittedVal\")\n",
    "    for each in classes:\n",
    "        images = os.listdir(data_prefix+'train/'+each+'/')\n",
    "        random.shuffle(images)\n",
    "        valid_till=int(len(images)*valid_split)\n",
    "        os.mkdir(data_prefix+'splittedVal/'+each)\n",
    "        for i in range(valid_till):\n",
    "            shutil.move(data_prefix+'train/'+each+\"/\"+images[i],data_prefix+'splittedVal/'+each)\n",
    "            "
   ]
  },
  {
   "cell_type": "code",
   "execution_count": null,
   "metadata": {
    "execution": {
     "iopub.execute_input": "2023-04-09T12:58:57.618335Z",
     "iopub.status.busy": "2023-04-09T12:58:57.617911Z",
     "iopub.status.idle": "2023-04-09T12:58:57.678262Z",
     "shell.execute_reply": "2023-04-09T12:58:57.677249Z",
     "shell.execute_reply.started": "2023-04-09T12:58:57.618296Z"
    },
    "id": "3a6a1b6c"
   },
   "outputs": [],
   "source": [
    "#loading data\n",
    "\n",
    "transform = transforms.Compose([\n",
    "                        transforms.Resize((224, 224)),\n",
    "                        transforms.ToTensor(),\n",
    "                         transforms.Normalize(mean=[0.485, 0.456, 0.406],\n",
    "                               std=[0.229, 0.224, 0.225])\n",
    "                        ])\n",
    "\n",
    "train_dataset = torchvision.datasets.ImageFolder(root=data_prefix+'train', transform=transform)\n",
    "valid_dataset = torchvision.datasets.ImageFolder(root=data_prefix+'splittedVal', transform=transform)\n",
    "test_dataset = torchvision.datasets.ImageFolder(root=data_prefix+'val', transform=transform)\n",
    "\n",
    "train_loader = DataLoader(train_dataset, batch_size=32, shuffle=True)\n",
    "valid_loader=DataLoader(valid_dataset, batch_size=32, shuffle=False)\n",
    "test_loader = DataLoader(test_dataset, batch_size=32, shuffle=False)"
   ]
  },
  {
   "cell_type": "code",
   "execution_count": null,
   "metadata": {
    "execution": {
     "iopub.execute_input": "2023-04-09T12:59:03.676081Z",
     "iopub.status.busy": "2023-04-09T12:59:03.674895Z",
     "iopub.status.idle": "2023-04-09T12:59:03.684142Z",
     "shell.execute_reply": "2023-04-09T12:59:03.682826Z",
     "shell.execute_reply.started": "2023-04-09T12:59:03.676026Z"
    },
    "id": "be12f084"
   },
   "outputs": [],
   "source": [
    "def getActivation(function): #activations\n",
    "    if function=='ReLU':\n",
    "        return nn.ReLU()\n",
    "    if function=='GELU':\n",
    "        return nn.GELU()\n",
    "    if function=='SiLU':\n",
    "        return nn.SELU()\n",
    "    return nn.ReLU()   "
   ]
  },
  {
   "cell_type": "code",
   "execution_count": null,
   "metadata": {
    "execution": {
     "iopub.execute_input": "2023-04-09T12:59:07.570859Z",
     "iopub.status.busy": "2023-04-09T12:59:07.570134Z",
     "iopub.status.idle": "2023-04-09T12:59:07.584874Z",
     "shell.execute_reply": "2023-04-09T12:59:07.583396Z",
     "shell.execute_reply.started": "2023-04-09T12:59:07.570816Z"
    },
    "id": "cd669784"
   },
   "outputs": [],
   "source": [
    "# Building Model\n",
    "class Model(pl.LightningModule):\n",
    "    def __init__(self):\n",
    "        \n",
    "        super().__init__()\n",
    "        self.learning_rate=0.0001\n",
    "        \n",
    "        self.resnet = resnet50(pretrained=True)\n",
    "        for param in self.resnet.parameters():\n",
    "            param.requires_grad = False #freezing all layers \n",
    "        num_features = self.resnet.fc.in_features\n",
    "        self.resnet.fc = nn.Linear(num_features, 10) #changing fc layer to have 10 neurons as we have 10 classes\n",
    "        self.loss = nn.CrossEntropyLoss() \n",
    "        self.valid_loss=[]\n",
    "        self.valid_acc=[]\n",
    "        self.train_loss=[]\n",
    "        self.train_acc=[]\n",
    "        \n",
    "  \n",
    "        \n",
    "    def forward(self,x):\n",
    "        return self.resnet(x)\n",
    "    \n",
    "    def configure_optimizers(self):\n",
    "        return torch.optim.Adam(self.resnet.fc.parameters(),lr= self.learning_rate)\n",
    "\n",
    "    def training_step(self,batch,batch_idx): # After every train batch, computes it's loss/acc and store it.\n",
    "        X,Y = batch\n",
    "        output = self(X)\n",
    "        loss = self.loss(output,Y)\n",
    "        acc = (output.argmax(dim = 1) == Y).float().mean()\n",
    "        self.train_loss.append(loss)\n",
    "        self.train_acc.append(acc)\n",
    "        return loss\n",
    "\n",
    "\n",
    "    def validation_step(self, batch,batch_idx): # After every valid batch, computes it's loss/acc and store it.\n",
    "        X,Y = batch\n",
    "        output = self(X)\n",
    "        loss = self.loss(output,Y)\n",
    "        acc = (output.argmax(dim = 1) == Y).float().mean()\n",
    "        self.valid_loss.append(loss)\n",
    "        self.valid_acc.append(acc)\n",
    "        return loss\n",
    "    \n",
    "    \n",
    "    def on_train_epoch_end(self): #once an epoch is completed, print and log the metrics to WandB\n",
    "      valid_loss=sum(self.valid_loss)/len(self.valid_loss)\n",
    "      valid_acc=sum(self.valid_acc)/len(self.valid_acc)\n",
    "      train_loss=sum(self.train_loss)/len(self.train_loss)\n",
    "      train_acc=sum(self.train_acc)/len(self.train_acc)\n",
    "      self.train_acc=[]\n",
    "      self.train_loss=[]\n",
    "      self.valid_loss=[]\n",
    "      self.valid_acc=[]\n",
    "      print(f\"Epoch: {self.current_epoch} train accuracy :{train_acc:.2f} valid_accuracy :{valid_acc:.2f}\")\n",
    "      wandb.log({'train_acc':train_acc,'train_loss':train_loss,'valid_acc':valid_acc,'valid_loss':valid_loss})\n",
    "    \n",
    "    def predict_step(self, batch, batch_idx): #for prediction\n",
    "        X, Y = batch\n",
    "        preds = self.resnet(X)\n",
    "        return preds\n"
   ]
  },
  {
   "cell_type": "code",
   "execution_count": null,
   "metadata": {
    "execution": {
     "iopub.execute_input": "2023-04-09T13:19:58.698520Z",
     "iopub.status.busy": "2023-04-09T13:19:58.697833Z",
     "iopub.status.idle": "2023-04-09T13:20:36.637861Z",
     "shell.execute_reply": "2023-04-09T13:20:36.636834Z",
     "shell.execute_reply.started": "2023-04-09T13:19:58.698477Z"
    },
    "id": "e8482b0f",
    "outputId": "2073090d-0b51-4cd9-bf30-8c3c02abb346"
   },
   "outputs": [],
   "source": [
    "# initialize the modle and fine tune\n",
    "wandb.init(project='ResNet50 Model') \n",
    "model = Model() \n",
    "trainer = pl.Trainer(max_epochs=10,devices=1,accelerator='gpu') \n",
    "trainer.fit(model,train_loader,valid_loader) #fine tuning the model"
   ]
  },
  {
   "cell_type": "code",
   "execution_count": null,
   "metadata": {
    "execution": {
     "iopub.execute_input": "2023-04-09T13:21:33.262500Z",
     "iopub.status.busy": "2023-04-09T13:21:33.262079Z",
     "iopub.status.idle": "2023-04-09T13:22:52.161185Z",
     "shell.execute_reply": "2023-04-09T13:22:52.160061Z",
     "shell.execute_reply.started": "2023-04-09T13:21:33.262466Z"
    },
    "id": "mTFktTctauTt",
    "outputId": "42f10c51-0777-496e-fba5-7d7f62f1e1de"
   },
   "outputs": [],
   "source": [
    "# To compute final test accuracy\n",
    "\n",
    "def calc_acc(data_loader,targets):\n",
    "  preds = trainer.predict(model, data_loader)\n",
    "  preds = torch.concat(preds)\n",
    "  preds = preds.argmax(axis=1)\n",
    "  preds=preds.numpy()\n",
    "  targets=np.array(targets)\n",
    "  return np.sum(preds==targets)/len(targets)\n",
    "\n",
    "valid_accuracy=calc_acc(valid_loader,valid_dataset.targets)\n",
    "test_accuracy=calc_acc(test_loader,test_dataset.targets)\n",
    "print(f'valid accuracy: {valid_accuracy:.2f} test accuracy: {test_accuracy:.2f}')\n",
    "wandb.log({'test accuracy':test_accuracy,'valid accuracy':valid_accuracy})\n",
    "wandb.finish()"
   ]
  }
 ],
 "metadata": {
  "kernelspec": {
   "display_name": "Python 3 (ipykernel)",
   "language": "python",
   "name": "python3"
  },
  "language_info": {
   "codemirror_mode": {
    "name": "ipython",
    "version": 3
   },
   "file_extension": ".py",
   "mimetype": "text/x-python",
   "name": "python",
   "nbconvert_exporter": "python",
   "pygments_lexer": "ipython3",
   "version": "3.9.12"
  }
 },
 "nbformat": 4,
 "nbformat_minor": 4
}
